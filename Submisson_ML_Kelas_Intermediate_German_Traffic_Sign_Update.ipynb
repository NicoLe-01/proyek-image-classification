{
  "nbformat": 4,
  "nbformat_minor": 0,
  "metadata": {
    "colab": {
      "name": "Submisson ML Kelas Intermediate German Traffic Sign Update.ipynb",
      "provenance": [],
      "collapsed_sections": []
    },
    "kernelspec": {
      "name": "python3",
      "display_name": "Python 3"
    },
    "language_info": {
      "name": "python"
    },
    "gpuClass": "standard"
  },
  "cells": [
    {
      "cell_type": "markdown",
      "source": [
        "Dataset : https://www.kaggle.com/datasets/meowmeowmeowmeowmeow/gtsrb-german-traffic-sign"
      ],
      "metadata": {
        "id": "6HW-yWZxJL8d"
      }
    },
    {
      "cell_type": "code",
      "source": [
        "import numpy as np\n",
        "import pandas as pd\n",
        "import os\n",
        "import cv2\n",
        "import matplotlib.pyplot as plt\n",
        "import tensorflow as tf\n",
        "import zipfile\n",
        "from tensorflow import keras\n",
        "from PIL import Image\n",
        "from sklearn.model_selection import train_test_split\n",
        "from tensorflow.keras.preprocessing.image import ImageDataGenerator\n",
        "from tensorflow.keras.callbacks import EarlyStopping"
      ],
      "metadata": {
        "id": "wMU2IQEbohOI"
      },
      "execution_count": null,
      "outputs": []
    },
    {
      "cell_type": "code",
      "source": [
        "zip = '/content/drive/MyDrive/Dataset_Kaggle/German Traffic Sign Recognition Benchmark.zip'\n",
        "unzip = zipfile.ZipFile(zip, 'r')\n",
        "unzip.extractall('/content/dataset')\n",
        "unzip.close()"
      ],
      "metadata": {
        "id": "oPwGDWXM0qE1"
      },
      "execution_count": null,
      "outputs": []
    },
    {
      "cell_type": "code",
      "source": [
        "data_dir = '/content/dataset'\n",
        "train_dir = '/content/dataset/Train'\n",
        "test_dir = '/content/dataset'"
      ],
      "metadata": {
        "id": "xXXU8sd709qg"
      },
      "execution_count": null,
      "outputs": []
    },
    {
      "cell_type": "code",
      "source": [
        "classes = { 0:'Speed limit (20km/h)',\n",
        "            1:'Speed limit (30km/h)', \n",
        "            2:'Speed limit (50km/h)', \n",
        "            3:'Speed limit (60km/h)', \n",
        "            4:'Speed limit (70km/h)', \n",
        "            5:'Speed limit (80km/h)', \n",
        "            6:'End of speed limit (80km/h)', \n",
        "            7:'Speed limit (100km/h)', \n",
        "            8:'Speed limit (120km/h)', \n",
        "            9:'No passing', \n",
        "            10:'No passing veh over 3.5 tons', \n",
        "            11:'Right-of-way at intersection', \n",
        "            12:'Priority road', \n",
        "            13:'Yield', \n",
        "            14:'Stop', \n",
        "            15:'No vehicles', \n",
        "            16:'Veh > 3.5 tons prohibited', \n",
        "            17:'No entry', \n",
        "            18:'General caution', \n",
        "            19:'Dangerous curve left', \n",
        "            20:'Dangerous curve right', \n",
        "            21:'Double curve', \n",
        "            22:'Bumpy road', \n",
        "            23:'Slippery road', \n",
        "            24:'Road narrows on the right', \n",
        "            25:'Road work', \n",
        "            26:'Traffic signals', \n",
        "            27:'Pedestrians', \n",
        "            28:'Children crossing', \n",
        "            29:'Bicycles crossing', \n",
        "            30:'Beware of ice/snow',\n",
        "            31:'Wild animals crossing', \n",
        "            32:'End speed + passing limits', \n",
        "            33:'Turn right ahead', \n",
        "            34:'Turn left ahead', \n",
        "            35:'Ahead only', \n",
        "            36:'Go straight or right', \n",
        "            37:'Go straight or left', \n",
        "            38:'Keep right', \n",
        "            39:'Keep left', \n",
        "            40:'Roundabout mandatory', \n",
        "            41:'End of no passing', \n",
        "            42:'End no passing veh > 3.5 tons' }"
      ],
      "metadata": {
        "id": "0V4AsamZn8Xw"
      },
      "execution_count": null,
      "outputs": []
    },
    {
      "cell_type": "code",
      "source": [
        "image_data = []\n",
        "image_labels = []\n",
        "for i in range(43):\n",
        "    path = data_dir + '/Train/' + str(i)\n",
        "    images = os.listdir(path)\n",
        "\n",
        "    for img in images:\n",
        "          image = cv2.imread(path + '/' + img)\n",
        "          image_fromarray = Image.fromarray(image, 'RGB')\n",
        "          resize_image = image_fromarray.resize((30, 30))\n",
        "          image_data.append(np.array(resize_image))\n",
        "          image_labels.append(i)"
      ],
      "metadata": {
        "id": "jS3N0UhYoL-c"
      },
      "execution_count": null,
      "outputs": []
    },
    {
      "cell_type": "code",
      "source": [
        "image_data = np.array(image_data)\n",
        "image_labels = np.array(image_labels)"
      ],
      "metadata": {
        "id": "npHBIzaiq0PT"
      },
      "execution_count": null,
      "outputs": []
    },
    {
      "cell_type": "code",
      "source": [
        "shuffle_indexes = np.arange(image_data.shape[0])\n",
        "np.random.shuffle(shuffle_indexes)\n",
        "image_data = image_data[shuffle_indexes]\n",
        "image_labels = image_labels[shuffle_indexes]"
      ],
      "metadata": {
        "id": "04o-i1ItrQM3"
      },
      "execution_count": null,
      "outputs": []
    },
    {
      "cell_type": "code",
      "source": [
        "img_train, img_test, label_train, label_test = train_test_split(image_data, image_labels, test_size=0.2, random_state=42, shuffle=True)"
      ],
      "metadata": {
        "id": "kxEJpVJGrk87"
      },
      "execution_count": null,
      "outputs": []
    },
    {
      "cell_type": "code",
      "source": [
        "label_train = keras.utils.to_categorical(label_train, 43)\n",
        "label_test = keras.utils.to_categorical(label_test, 43)"
      ],
      "metadata": {
        "id": "zgH9Q1Kgu1QA"
      },
      "execution_count": null,
      "outputs": []
    },
    {
      "cell_type": "code",
      "source": [
        "augmetation = ImageDataGenerator(rotation_range=10,\n",
        "                                 zoom_range=0.15,\n",
        "                                 shear_range=0.15,\n",
        "                                 fill_mode='nearest')\n"
      ],
      "metadata": {
        "id": "g3YHsUyp1IBT"
      },
      "execution_count": null,
      "outputs": []
    },
    {
      "cell_type": "code",
      "source": [
        "model = keras.models.Sequential([    \n",
        "    keras.layers.Conv2D(16, (3,3), activation='relu', input_shape=(30, 30, 3)),\n",
        "    keras.layers.Conv2D(32, (3,3), activation='relu'),\n",
        "    keras.layers.MaxPool2D((2, 2)),\n",
        "    keras.layers.BatchNormalization(-1),\n",
        "    keras.layers.Conv2D(64, (3,3), activation='relu'),\n",
        "    keras.layers.Conv2D(128, (3,3), activation='relu'),\n",
        "    keras.layers.MaxPool2D((2, 2)),\n",
        "    keras.layers.BatchNormalization(-1),\n",
        "    keras.layers.Flatten(),\n",
        "    keras.layers.Dense(512, activation='relu'),\n",
        "    keras.layers.BatchNormalization(),\n",
        "    keras.layers.Dropout(0.5),\n",
        "    keras.layers.Dense(43, activation='softmax')\n",
        "])"
      ],
      "metadata": {
        "id": "VRiN7-MguHlw"
      },
      "execution_count": null,
      "outputs": []
    },
    {
      "cell_type": "code",
      "source": [
        "model.summary()"
      ],
      "metadata": {
        "colab": {
          "base_uri": "https://localhost:8080/"
        },
        "id": "JfNiKG-z15_p",
        "outputId": "8f42bc5d-6dd2-48bb-a61f-132aefbd5359"
      },
      "execution_count": null,
      "outputs": [
        {
          "output_type": "stream",
          "name": "stdout",
          "text": [
            "Model: \"sequential_3\"\n",
            "_________________________________________________________________\n",
            " Layer (type)                Output Shape              Param #   \n",
            "=================================================================\n",
            " conv2d_12 (Conv2D)          (None, 28, 28, 16)        448       \n",
            "                                                                 \n",
            " conv2d_13 (Conv2D)          (None, 26, 26, 32)        4640      \n",
            "                                                                 \n",
            " max_pooling2d_6 (MaxPooling  (None, 13, 13, 32)       0         \n",
            " 2D)                                                             \n",
            "                                                                 \n",
            " batch_normalization_9 (Batc  (None, 13, 13, 32)       128       \n",
            " hNormalization)                                                 \n",
            "                                                                 \n",
            " conv2d_14 (Conv2D)          (None, 11, 11, 64)        18496     \n",
            "                                                                 \n",
            " conv2d_15 (Conv2D)          (None, 9, 9, 128)         73856     \n",
            "                                                                 \n",
            " max_pooling2d_7 (MaxPooling  (None, 4, 4, 128)        0         \n",
            " 2D)                                                             \n",
            "                                                                 \n",
            " batch_normalization_10 (Bat  (None, 4, 4, 128)        512       \n",
            " chNormalization)                                                \n",
            "                                                                 \n",
            " flatten_3 (Flatten)         (None, 2048)              0         \n",
            "                                                                 \n",
            " dense_6 (Dense)             (None, 512)               1049088   \n",
            "                                                                 \n",
            " batch_normalization_11 (Bat  (None, 512)              2048      \n",
            " chNormalization)                                                \n",
            "                                                                 \n",
            " dropout_3 (Dropout)         (None, 512)               0         \n",
            "                                                                 \n",
            " dense_7 (Dense)             (None, 43)                22059     \n",
            "                                                                 \n",
            "=================================================================\n",
            "Total params: 1,171,275\n",
            "Trainable params: 1,169,931\n",
            "Non-trainable params: 1,344\n",
            "_________________________________________________________________\n"
          ]
        }
      ]
    },
    {
      "cell_type": "code",
      "source": [
        "model.compile(optimizer='adam',\n",
        "              loss=keras.losses.CategoricalCrossentropy(),\n",
        "              metrics=['accuracy'])"
      ],
      "metadata": {
        "id": "u9qkULzG17oB"
      },
      "execution_count": null,
      "outputs": []
    },
    {
      "cell_type": "code",
      "source": [
        "early_stopping_monitor = EarlyStopping(monitor='val_accuracy', patience=3, restore_best_weights=True)"
      ],
      "metadata": {
        "id": "w4Sx4q_ZJSr0"
      },
      "execution_count": null,
      "outputs": []
    },
    {
      "cell_type": "code",
      "source": [
        "history = model.fit(augmetation.flow(img_train, label_train, batch_size=16), \n",
        "          epochs=30,\n",
        "          validation_data = (img_test, label_test),\n",
        "          batch_size=12,\n",
        "          verbose=1,\n",
        "          callbacks=[early_stopping_monitor])"
      ],
      "metadata": {
        "colab": {
          "base_uri": "https://localhost:8080/"
        },
        "id": "kUnTmStV2BDL",
        "outputId": "9743a225-6f63-4cc8-8475-4af3d94e87f8"
      },
      "execution_count": null,
      "outputs": [
        {
          "output_type": "stream",
          "name": "stdout",
          "text": [
            "Epoch 1/30\n",
            "1961/1961 [==============================] - 115s 59ms/step - loss: 0.3669 - accuracy: 0.8944 - val_loss: 0.0607 - val_accuracy: 0.9809\n",
            "Epoch 2/30\n",
            "1961/1961 [==============================] - 111s 57ms/step - loss: 0.1065 - accuracy: 0.9685 - val_loss: 0.0652 - val_accuracy: 0.9809\n",
            "Epoch 3/30\n",
            "1961/1961 [==============================] - 111s 57ms/step - loss: 0.0815 - accuracy: 0.9757 - val_loss: 0.0258 - val_accuracy: 0.9916\n",
            "Epoch 4/30\n",
            "1961/1961 [==============================] - 111s 57ms/step - loss: 0.0768 - accuracy: 0.9769 - val_loss: 0.0435 - val_accuracy: 0.9864\n",
            "Epoch 5/30\n",
            "1961/1961 [==============================] - 113s 57ms/step - loss: 0.0586 - accuracy: 0.9834 - val_loss: 0.0226 - val_accuracy: 0.9943\n",
            "Epoch 6/30\n",
            "1961/1961 [==============================] - 111s 57ms/step - loss: 0.0586 - accuracy: 0.9832 - val_loss: 0.0292 - val_accuracy: 0.9920\n",
            "Epoch 7/30\n",
            "1961/1961 [==============================] - 111s 57ms/step - loss: 0.0401 - accuracy: 0.9888 - val_loss: 0.0149 - val_accuracy: 0.9954\n",
            "Epoch 8/30\n",
            "1961/1961 [==============================] - 110s 56ms/step - loss: 0.0399 - accuracy: 0.9880 - val_loss: 0.0134 - val_accuracy: 0.9966\n",
            "Epoch 9/30\n",
            "1961/1961 [==============================] - 111s 57ms/step - loss: 0.0405 - accuracy: 0.9885 - val_loss: 0.0245 - val_accuracy: 0.9943\n",
            "Epoch 10/30\n",
            "1961/1961 [==============================] - 115s 58ms/step - loss: 0.0318 - accuracy: 0.9910 - val_loss: 0.0137 - val_accuracy: 0.9962\n",
            "Epoch 11/30\n",
            "1961/1961 [==============================] - 116s 59ms/step - loss: 0.0259 - accuracy: 0.9920 - val_loss: 0.0102 - val_accuracy: 0.9981\n",
            "Epoch 12/30\n",
            "1961/1961 [==============================] - 113s 58ms/step - loss: 0.0310 - accuracy: 0.9914 - val_loss: 0.0130 - val_accuracy: 0.9963\n",
            "Epoch 13/30\n",
            "1961/1961 [==============================] - 111s 56ms/step - loss: 0.0311 - accuracy: 0.9912 - val_loss: 0.0076 - val_accuracy: 0.9983\n",
            "Epoch 14/30\n",
            "1961/1961 [==============================] - 111s 57ms/step - loss: 0.0243 - accuracy: 0.9930 - val_loss: 0.0063 - val_accuracy: 0.9983\n",
            "Epoch 15/30\n",
            "1961/1961 [==============================] - 111s 56ms/step - loss: 0.0242 - accuracy: 0.9932 - val_loss: 0.0151 - val_accuracy: 0.9968\n",
            "Epoch 16/30\n",
            "1961/1961 [==============================] - 111s 56ms/step - loss: 0.0249 - accuracy: 0.9934 - val_loss: 0.0117 - val_accuracy: 0.9976\n"
          ]
        }
      ]
    },
    {
      "cell_type": "code",
      "source": [
        "accuracy = history.history['accuracy']\n",
        "val_accuracy = history.history['val_accuracy']\n",
        "loss = history.history['loss']\n",
        "val_loss = history.history['val_loss']\n",
        "\n",
        "plt.plot(accuracy, 'b', label='Train accuracy')\n",
        "plt.plot(val_accuracy, 'r', label='Validation accuracy')\n",
        "plt.title('Training and validation accuracy')\n",
        "plt.legend(loc=0)\n",
        "plt.figure()\n",
        "plt.show()"
      ],
      "metadata": {
        "colab": {
          "base_uri": "https://localhost:8080/",
          "height": 298
        },
        "id": "2_f0p7Zm7Gyv",
        "outputId": "e2e5c160-1aa5-4f98-c757-4c08ee948c06"
      },
      "execution_count": null,
      "outputs": [
        {
          "output_type": "display_data",
          "data": {
            "text/plain": [
              "<Figure size 432x288 with 1 Axes>"
            ],
            "image/png": "[encoded data removed]"
          },
          "metadata": {
            "needs_background": "light"
          }
        },
        {
          "output_type": "display_data",
          "data": {
            "text/plain": [
              "<Figure size 432x288 with 0 Axes>"
            ]
          },
          "metadata": {}
        }
      ]
    },
    {
      "cell_type": "code",
      "source": [
        "plt.plot(loss, 'b', label='Train loss')\n",
        "plt.plot(val_loss, 'r', label='Validation loss')\n",
        "plt.title('Training and validation accuracy')\n",
        "plt.legend(loc=0)\n",
        "plt.figure()\n",
        "plt.show()"
      ],
      "metadata": {
        "colab": {
          "base_uri": "https://localhost:8080/",
          "height": 298
        },
        "id": "x-To4NmcL1vj",
        "outputId": "846b8357-2fa6-4c8b-8668-1db3fb409096"
      },
      "execution_count": 50,
      "outputs": [
        {
          "output_type": "display_data",
          "data": {
            "text/plain": [
              "<Figure size 432x288 with 1 Axes>"
            ],
            "image/png": "[encoded data removed]"
          },
          "metadata": {
            "needs_background": "light"
          }
        },
        {
          "output_type": "display_data",
          "data": {
            "text/plain": [
              "<Figure size 432x288 with 0 Axes>"
            ]
          },
          "metadata": {}
        }
      ]
    },
    {
      "cell_type": "code",
      "source": [
        "save_path = 'mymodel/'\n",
        "tf.saved_model.save(model, save_path)"
      ],
      "metadata": {
        "id": "QCCW5AbiJf_X"
      },
      "execution_count": null,
      "outputs": []
    },
    {
      "cell_type": "code",
      "source": [
        "converter = tf.lite.TFLiteConverter.from_saved_model('/content/mymodel')\n",
        "tflite_model = converter.convert()\n",
        " \n",
        "with tf.io.gfile.GFile('German_trafic_sign.tflite', 'wb') as f:\n",
        "    f.write(tflite_model)"
      ],
      "metadata": {
        "id": "5W__EEYFJwmD",
        "colab": {
          "base_uri": "https://localhost:8080/"
        },
        "outputId": "6b462331-972f-4c98-d86e-d8eac28a9bab"
      },
      "execution_count": null,
      "outputs": [
        {
          "output_type": "stream",
          "name": "stderr",
          "text": [
            "WARNING:absl:Buffer deduplication procedure will be skipped when flatbuffer library is not properly loaded\n"
          ]
        }
      ]
    }
  ]
}